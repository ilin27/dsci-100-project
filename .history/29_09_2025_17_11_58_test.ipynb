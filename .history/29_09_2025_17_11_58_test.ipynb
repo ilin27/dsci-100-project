{
 "cells": [
  {
   "cell_type": "code",
   "execution_count": null,
   "id": "679250d2-5d29-4112-90a8-466d13b5767d",
   "metadata": {},
   "outputs": [],
   "source": [
    "print(\"hello world\")"
   ]
  },
  {
   "cell_type": "code",
   "execution_count": null,
   "id": "78796290-7ae3-4171-a390-65c0422b2e19",
   "metadata": {},
   "outputs": [],
   "source": []
  }
 ],
 "metadata": {
  "kernelspec": {
   "display_name": "R",
   "language": "R",
   "name": "ir"
  },
  "language_info": {
   "codemirror_mode": "r",
   "file_extension": ".r",
   "mimetype": "text/x-r-source",
   "name": "R",
   "pygments_lexer": "r",
   "version": "4.3.3"
  }
 },
 "nbformat": 4,
 "nbformat_minor": 5
}
